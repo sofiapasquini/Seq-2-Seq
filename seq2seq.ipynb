{
 "cells": [
  {
   "cell_type": "markdown",
   "id": "engaging-warehouse",
   "metadata": {},
   "source": [
    "## Polynomial Sequence to Sequence Encoder\n",
    "\n",
    "In this notebook I am exploring building a sequence-to-sequence encoder that will accept as input a factored polynomial and predict the expanded version based on input characters (not a mathematical scheme).\n",
    "\n",
    "My pre-processing steps include splitting sequences to individual characters, tokenization,  identifier vectorization and implementing padding to target sequences.\n",
    "\n",
    "The model architecture used is an Encoder-Decoder network with three LSTM layers in the Encoder and 1 LSTM layer in the Decoder. I use a sparse catagorical cross-entropy loss function and Adam optimizer.\n",
    "\n",
    "I am currently working on implementation of the inference model which successfully translates the decoder output to the expanded polynomial string, but have saved the trained model (model trained on data in file entitled \"data.txt\") as \"seq2seq_2_trained.h5\". This was the second model architecture explored, the first model architecture, trained on the same data, was saved as \"seq2seq_trained.h5\"."
   ]
  },
  {
   "cell_type": "code",
   "execution_count": 1,
   "id": "genuine-measure",
   "metadata": {},
   "outputs": [],
   "source": [
    "from keras.models import Model\n",
    "from keras.layers import Input, LSTM, Dense, Embedding, TimeDistributed\n",
    "from keras.preprocessing.text import Tokenizer\n",
    "# from keras.preprocessing.sequence import pad_sequences\n",
    "from keras.utils import pad_sequences, to_categorical\n",
    "import numpy as np\n",
    "import pandas as pd\n",
    "import collections\n",
    "import re\n",
    "from sklearn.model_selection import train_test_split"
   ]
  },
  {
   "cell_type": "markdown",
   "id": "coated-slope",
   "metadata": {},
   "source": [
    "### Load in and prepare the data\n",
    "\n",
    "We are going to be dealing with an input sequence of characters and an output sequence of characters (of different lengths). The input sequences will be factored formes of polynomials while the output (target) sequences will be the expanded forms."
   ]
  },
  {
   "cell_type": "code",
   "execution_count": 6,
   "id": "spiritual-alignment",
   "metadata": {},
   "outputs": [
    {
     "data": {
      "text/html": [
       "<div>\n",
       "<style scoped>\n",
       "    .dataframe tbody tr th:only-of-type {\n",
       "        vertical-align: middle;\n",
       "    }\n",
       "\n",
       "    .dataframe tbody tr th {\n",
       "        vertical-align: top;\n",
       "    }\n",
       "\n",
       "    .dataframe thead th {\n",
       "        text-align: right;\n",
       "    }\n",
       "</style>\n",
       "<table border=\"1\" class=\"dataframe\">\n",
       "  <thead>\n",
       "    <tr style=\"text-align: right;\">\n",
       "      <th></th>\n",
       "      <th>factored</th>\n",
       "      <th>expanded</th>\n",
       "    </tr>\n",
       "  </thead>\n",
       "  <tbody>\n",
       "    <tr>\n",
       "      <th>0</th>\n",
       "      <td>(7-3*z)*(-5*z-9)</td>\n",
       "      <td>15*z**2-8*z-63</td>\n",
       "    </tr>\n",
       "    <tr>\n",
       "      <th>1</th>\n",
       "      <td>-9*s**2</td>\n",
       "      <td>-9*s**2</td>\n",
       "    </tr>\n",
       "    <tr>\n",
       "      <th>2</th>\n",
       "      <td>(2-2*n)*(n-1)</td>\n",
       "      <td>-2*n**2+4*n-2</td>\n",
       "    </tr>\n",
       "    <tr>\n",
       "      <th>3</th>\n",
       "      <td>x**2</td>\n",
       "      <td>x**2</td>\n",
       "    </tr>\n",
       "    <tr>\n",
       "      <th>4</th>\n",
       "      <td>(4-x)*(x-23)</td>\n",
       "      <td>-x**2+27*x-92</td>\n",
       "    </tr>\n",
       "  </tbody>\n",
       "</table>\n",
       "</div>"
      ],
      "text/plain": [
       "           factored        expanded\n",
       "0  (7-3*z)*(-5*z-9)  15*z**2-8*z-63\n",
       "1           -9*s**2         -9*s**2\n",
       "2     (2-2*n)*(n-1)   -2*n**2+4*n-2\n",
       "3              x**2            x**2\n",
       "4      (4-x)*(x-23)   -x**2+27*x-92"
      ]
     },
     "execution_count": 6,
     "metadata": {},
     "output_type": "execute_result"
    }
   ],
   "source": [
    "data= pd.read_csv(\"data.txt\", sep=\"=\", header=None)\n",
    "data.columns=[\"factored\", \"expanded\"]\n",
    "data.head()"
   ]
  },
  {
   "cell_type": "code",
   "execution_count": 7,
   "id": "seeing-syracuse",
   "metadata": {},
   "outputs": [
    {
     "name": "stdout",
     "output_type": "stream",
     "text": [
      "(1000000, 2)\n",
      "(10000, 2)\n"
     ]
    }
   ],
   "source": [
    "#just to speed things along lets let the data set be just 2000 pairs long\n",
    "print(data.shape)\n",
    "data = data.iloc[:10000,:]\n",
    "print(data.shape)"
   ]
  },
  {
   "cell_type": "code",
   "execution_count": 8,
   "id": "fewer-butterfly",
   "metadata": {},
   "outputs": [
    {
     "data": {
      "text/html": [
       "<div>\n",
       "<style scoped>\n",
       "    .dataframe tbody tr th:only-of-type {\n",
       "        vertical-align: middle;\n",
       "    }\n",
       "\n",
       "    .dataframe tbody tr th {\n",
       "        vertical-align: top;\n",
       "    }\n",
       "\n",
       "    .dataframe thead th {\n",
       "        text-align: right;\n",
       "    }\n",
       "</style>\n",
       "<table border=\"1\" class=\"dataframe\">\n",
       "  <thead>\n",
       "    <tr style=\"text-align: right;\">\n",
       "      <th></th>\n",
       "      <th>factored</th>\n",
       "      <th>expanded</th>\n",
       "    </tr>\n",
       "  </thead>\n",
       "  <tbody>\n",
       "    <tr>\n",
       "      <th>0</th>\n",
       "      <td>[(, 7, -, 3, *, z, ), *, (, -, 5, *, z, -, 9, )]</td>\n",
       "      <td>[1, 5, *, z, *, *, 2, -, 8, *, z, -, 6, 3]</td>\n",
       "    </tr>\n",
       "    <tr>\n",
       "      <th>1</th>\n",
       "      <td>[-, 9, *, s, *, *, 2]</td>\n",
       "      <td>[-, 9, *, s, *, *, 2]</td>\n",
       "    </tr>\n",
       "    <tr>\n",
       "      <th>2</th>\n",
       "      <td>[(, 2, -, 2, *, n, ), *, (, n, -, 1, )]</td>\n",
       "      <td>[-, 2, *, n, *, *, 2, +, 4, *, n, -, 2]</td>\n",
       "    </tr>\n",
       "    <tr>\n",
       "      <th>3</th>\n",
       "      <td>[x, *, *, 2]</td>\n",
       "      <td>[x, *, *, 2]</td>\n",
       "    </tr>\n",
       "    <tr>\n",
       "      <th>4</th>\n",
       "      <td>[(, 4, -, x, ), *, (, x, -, 2, 3, )]</td>\n",
       "      <td>[-, x, *, *, 2, +, 2, 7, *, x, -, 9, 2]</td>\n",
       "    </tr>\n",
       "  </tbody>\n",
       "</table>\n",
       "</div>"
      ],
      "text/plain": [
       "                                           factored  \\\n",
       "0  [(, 7, -, 3, *, z, ), *, (, -, 5, *, z, -, 9, )]   \n",
       "1                             [-, 9, *, s, *, *, 2]   \n",
       "2           [(, 2, -, 2, *, n, ), *, (, n, -, 1, )]   \n",
       "3                                      [x, *, *, 2]   \n",
       "4              [(, 4, -, x, ), *, (, x, -, 2, 3, )]   \n",
       "\n",
       "                                     expanded  \n",
       "0  [1, 5, *, z, *, *, 2, -, 8, *, z, -, 6, 3]  \n",
       "1                       [-, 9, *, s, *, *, 2]  \n",
       "2     [-, 2, *, n, *, *, 2, +, 4, *, n, -, 2]  \n",
       "3                                [x, *, *, 2]  \n",
       "4     [-, x, *, *, 2, +, 2, 7, *, x, -, 9, 2]  "
      ]
     },
     "execution_count": 8,
     "metadata": {},
     "output_type": "execute_result"
    }
   ],
   "source": [
    "#split the sequences into a list each of characters\n",
    "def seq_splitter(seq):\n",
    "    char_list = list(seq)\n",
    "    return char_list\n",
    "\n",
    "#apply it to the data frame\n",
    "data.factored = data.factored.apply(lambda x: seq_splitter(x))\n",
    "\n",
    "data.expanded = data.expanded.apply(lambda x: seq_splitter(x))\n",
    "\n",
    "data.head()"
   ]
  },
  {
   "cell_type": "code",
   "execution_count": 9,
   "id": "operating-subscription",
   "metadata": {},
   "outputs": [
    {
     "name": "stdout",
     "output_type": "stream",
     "text": [
      "29\n"
     ]
    }
   ],
   "source": [
    "#what is the maximum length of the input sentences\n",
    "MAX_LEN= max(list(map(lambda x: len(x), data.factored)))\n",
    "print(MAX_LEN)"
   ]
  },
  {
   "cell_type": "code",
   "execution_count": 10,
   "id": "negative-portsmouth",
   "metadata": {},
   "outputs": [],
   "source": [
    "#add a <BOS> (Beginning of Sequence) and <EOS> (End of Sequence) tag to the sequences for decoder input\n",
    "def tagger(decoder_input_sequence):\n",
    "    bos = \"<BOS>\"\n",
    "    eos = \"<EOS>\"\n",
    "    for seq in decoder_input_sequence:\n",
    "        seq.insert(0,bos)\n",
    "        seq.append(eos)\n",
    "#     final_target = [seq.insert(0,bos) + seq + eos for seq in decoder_input_sequence]\n",
    "    return decoder_input_sequence"
   ]
  },
  {
   "cell_type": "code",
   "execution_count": 11,
   "id": "commercial-twist",
   "metadata": {},
   "outputs": [],
   "source": [
    "#tag the beginning and end of the expansions sequences\n",
    "expansions = tagger(data.expanded)"
   ]
  },
  {
   "cell_type": "code",
   "execution_count": 76,
   "id": "civic-premises",
   "metadata": {},
   "outputs": [],
   "source": [
    "# #define the vocabulary, determine size of one-hot encoded sequence vector\n",
    "# #the vocabulary will be a collection of characters in this context, not words\n",
    "\n",
    "VOCAB_SIZE = 31 # adding 2+29 for <BOS> and <EOS> tags not sure if this is correct- Sofia come back to this...\n",
    "\n",
    "def vocab_creator(seq_lists, VOCAB_SIZE):\n",
    "    \n",
    "    tokenizer = Tokenizer(num_words = VOCAB_SIZE)\n",
    "    tokenizer.fit_on_texts(seq_lists)\n",
    "    dictionary = tokenizer.word_index\n",
    "    \n",
    "    word2idx = {}\n",
    "    idx2word = {}\n",
    "    \n",
    "    for i, j in dictionary.items():\n",
    "        \n",
    "        if j < VOCAB_SIZE:\n",
    "            word2idx[i] = j\n",
    "            idx2word[j] = i\n",
    "            \n",
    "        if j >= VOCAB_SIZE-1:\n",
    "            continue\n",
    "    \n",
    "    return word2idx, idx2word\n",
    "\n"
   ]
  },
  {
   "cell_type": "code",
   "execution_count": 77,
   "id": "expected-luxembourg",
   "metadata": {},
   "outputs": [],
   "source": [
    "# encoder_input_text = data.factored\n",
    "word2idx, idx2word = vocab_creator(seq_lists = factors + expansions, VOCAB_SIZE=VOCAB_SIZE)\n"
   ]
  },
  {
   "cell_type": "code",
   "execution_count": 78,
   "id": "invisible-riverside",
   "metadata": {},
   "outputs": [
    {
     "name": "stdout",
     "output_type": "stream",
     "text": [
      "{'*': 1, '-': 2, '2': 3, '(': 4, ')': 5, '1': 6, '+': 7, '<bos>': 8, '<eos>': 9, '4': 10, '3': 11, '6': 12, '8': 13, '5': 14, '7': 15, '0': 16, 'n': 17, 's': 18, 'i': 19, '9': 20, 'o': 21, 'a': 22, 't': 23, 'c': 24, 'k': 25, 'x': 26, 'z': 27, 'y': 28, 'h': 29, 'j': 30}\n",
      "{1: '*', 2: '-', 3: '2', 4: '(', 5: ')', 6: '1', 7: '+', 8: '<bos>', 9: '<eos>', 10: '4', 11: '3', 12: '6', 13: '8', 14: '5', 15: '7', 16: '0', 17: 'n', 18: 's', 19: 'i', 20: '9', 21: 'o', 22: 'a', 23: 't', 24: 'c', 25: 'k', 26: 'x', 27: 'z', 28: 'y', 29: 'h', 30: 'j'}\n"
     ]
    }
   ],
   "source": [
    "print(word2idx)\n",
    "print(idx2word)"
   ]
  },
  {
   "cell_type": "code",
   "execution_count": 17,
   "id": "tight-robin",
   "metadata": {},
   "outputs": [],
   "source": [
    "#define the factored sequences\n",
    "factors = data.factored"
   ]
  },
  {
   "cell_type": "code",
   "execution_count": 21,
   "id": "short-sector",
   "metadata": {},
   "outputs": [],
   "source": [
    "#now tokenize the bag of words to a bag of IDs- transform each sequence of characters into sequences of ids\n",
    "def text2seq(factors, expansions, VOCAB_SIZE):\n",
    "    \n",
    "    tokenizer = Tokenizer(num_words = VOCAB_SIZE)\n",
    "    tokenizer.fit_on_texts(factors + expansions)\n",
    "    factor_sequences = tokenizer.texts_to_sequences(factors)\n",
    "    expansion_sequences = tokenizer.texts_to_sequences(expansions)\n",
    "    \n",
    "    return factor_sequences, expansion_sequences"
   ]
  },
  {
   "cell_type": "code",
   "execution_count": 22,
   "id": "infinite-calibration",
   "metadata": {},
   "outputs": [],
   "source": [
    "factor_sequences, expansion_sequences = text2seq(factors, expansions, VOCAB_SIZE=VOCAB_SIZE)"
   ]
  },
  {
   "cell_type": "code",
   "execution_count": 25,
   "id": "suffering-refund",
   "metadata": {},
   "outputs": [],
   "source": [
    "#now implement padding to the sequences- use the max sequence length we found earlier\n",
    "#(we expect the max encoder input length to be < the max decoder input length)\n",
    "\n",
    "def padding(factor_sequences, expansion_sequences, MAX_LEN):\n",
    "    \n",
    "    factors_padded = pad_sequences(factor_sequences, maxlen = MAX_LEN, padding = 'post', truncating = 'post')\n",
    "    expansions_padded = pad_sequences(expansion_sequences, maxlen = MAX_LEN, padding = 'post', truncating = 'post')\n",
    "    \n",
    "    return factors_padded, expansions_padded\n"
   ]
  },
  {
   "cell_type": "code",
   "execution_count": 26,
   "id": "fifty-taiwan",
   "metadata": {},
   "outputs": [],
   "source": [
    "factors_padded, expansions_padded = padding(factor_sequences, expansion_sequences, MAX_LEN=MAX_LEN)"
   ]
  },
  {
   "cell_type": "markdown",
   "id": "conceptual-laser",
   "metadata": {},
   "source": [
    "### Now define the model architecture and train!?"
   ]
  },
  {
   "cell_type": "code",
   "execution_count": 36,
   "id": "northern-familiar",
   "metadata": {},
   "outputs": [],
   "source": [
    "# def seq2seq_model(HIDDEN_DIM=300, EMBEDDING_DIM=10):\n",
    "    \n",
    "#     #first the encoder layers\n",
    "#     encoder_inputs = Input(shape = (MAX_LEN, ), \n",
    "#                            dtype = 'int32')\n",
    "#     embed_layer = Embedding(input_dim = VOCAB_SIZE,\n",
    "#                            output_dim = EMBEDDING_DIM,\n",
    "#                            input_length = MAX_LEN)\n",
    "#     encoder_embedding = embed_layer(encoder_inputs) #sofia what is embed_layer() doing?\n",
    "#     encoder_LSTM = LSTM(HIDDEN_DIM,\n",
    "#                        return_state = True)\n",
    "#     encoder_outputs, state_h, state_c = encoder_LSTM(encoder_embedding)\n",
    "    \n",
    "#     #now the decoder layers\n",
    "#     decoder_inputs = Input(shape = (MAX_LEN, ), \n",
    "#                           dtype = 'int32')\n",
    "#     decoder_embedding = embed_layer(decoder_inputs)\n",
    "#     decoder_LSTM = LSTM(HIDDEN_DIM, \n",
    "#                        return_state = True, \n",
    "#                        return_sequences = True)\n",
    "#     #setting the initial state of the LSTM layer as the final state of the encoder LSTM layer\n",
    "#     decoder_outputs, _, _ = decoder_LSTM(decoder_embedding, initial_state=[state_h, state_c])\n",
    "    \n",
    "#     #the final Dense layer ( applying a layer to every temporal input slice )\n",
    "#     outputs = TimeDistributed(Dense(VOCAB_SIZE, activation = 'softmax'))(decoder_outputs)\n",
    "#     model = Model([encoder_inputs, decoder_inputs], outputs)\n",
    "    \n",
    "#     return model"
   ]
  },
  {
   "cell_type": "code",
   "execution_count": 37,
   "id": "timely-saver",
   "metadata": {},
   "outputs": [],
   "source": [
    "# model = seq2seq_model(HIDDEN_DIM=20)\n",
    "# model.summary()"
   ]
  },
  {
   "cell_type": "code",
   "execution_count": 38,
   "id": "sporting-words",
   "metadata": {},
   "outputs": [],
   "source": [
    "# #now let's train the model!!\n",
    "\n",
    "# model.compile(optimizer = 'adam',\n",
    "#              loss = 'categorical_crossentropy',\n",
    "#              metrics = ['accuracy'])"
   ]
  },
  {
   "cell_type": "code",
   "execution_count": 39,
   "id": "imported-dependence",
   "metadata": {},
   "outputs": [],
   "source": [
    "# en_in_train, en_in_test, de_in_train, de_in_test, de_out_train, de_out_test = train_test_split(encoder_input_data, decoder_input_data, decoder_output_data, test_size=0.3)\n",
    "# print(en_in_train.shape, de_in_train.shape, de_out_train.shape)\n"
   ]
  },
  {
   "cell_type": "code",
   "execution_count": 40,
   "id": "seeing-dressing",
   "metadata": {},
   "outputs": [],
   "source": [
    "# BATCH_SIZE = 700\n",
    "# EPOCHS = 5 #lets start here"
   ]
  },
  {
   "cell_type": "code",
   "execution_count": 41,
   "id": "first-edmonton",
   "metadata": {},
   "outputs": [],
   "source": [
    "# #make sure to save the training progress\n",
    "# history = model.fit([en_in_train, de_in_train], de_out_train,\n",
    "#                    epochs = EPOCHS, \n",
    "#                    batch_size = BATCH_SIZE)"
   ]
  },
  {
   "cell_type": "markdown",
   "id": "strong-highlight",
   "metadata": {},
   "source": [
    "### Let's save the model and visualize the learning history!\n"
   ]
  },
  {
   "cell_type": "code",
   "execution_count": 59,
   "id": "respected-village",
   "metadata": {},
   "outputs": [
    {
     "name": "stdout",
     "output_type": "stream",
     "text": [
      "Model: \"model_1\"\n",
      "__________________________________________________________________________________________________\n",
      " Layer (type)                   Output Shape         Param #     Connected to                     \n",
      "==================================================================================================\n",
      " input_3 (InputLayer)           [(None, 29)]         0           []                               \n",
      "                                                                                                  \n",
      " embedding_2 (Embedding)        (None, 29, 10)       310         ['input_3[0][0]']                \n",
      "                                                                                                  \n",
      " input_4 (InputLayer)           [(None, None)]       0           []                               \n",
      "                                                                                                  \n",
      " lstm_4 (LSTM)                  [(None, 29, 300),    373200      ['embedding_2[0][0]']            \n",
      "                                 (None, 300),                                                     \n",
      "                                 (None, 300)]                                                     \n",
      "                                                                                                  \n",
      " embedding_3 (Embedding)        (None, None, 10)     310         ['input_4[0][0]']                \n",
      "                                                                                                  \n",
      " lstm_6 (LSTM)                  [(None, 29, 300),    721200      ['lstm_4[0][0]']                 \n",
      "                                 (None, 300),                                                     \n",
      "                                 (None, 300)]                                                     \n",
      "                                                                                                  \n",
      " lstm_7 (LSTM)                  [(None, None, 300),  373200      ['embedding_3[0][0]',            \n",
      "                                 (None, 300),                     'lstm_6[0][1]',                 \n",
      "                                 (None, 300)]                     'lstm_6[0][2]']                 \n",
      "                                                                                                  \n",
      " time_distributed_1 (TimeDistri  (None, None, 31)    9331        ['lstm_7[0][0]']                 \n",
      " buted)                                                                                           \n",
      "                                                                                                  \n",
      "==================================================================================================\n",
      "Total params: 1,477,551\n",
      "Trainable params: 1,477,551\n",
      "Non-trainable params: 0\n",
      "__________________________________________________________________________________________________\n"
     ]
    }
   ],
   "source": [
    "HIDDEN_DIM = 300\n",
    "EMBEDDING_DIM = 10\n",
    "\n",
    "#Encoder\n",
    "encoder_inputs = Input(shape = (MAX_LEN,))\n",
    "\n",
    "#Embedding layer\n",
    "enc_emb = Embedding(input_dim = VOCAB_SIZE,\n",
    "                    output_dim = EMBEDDING_DIM,\n",
    "                    input_length = MAX_LEN,\n",
    "                   trainable = True)(encoder_inputs)\n",
    "\n",
    "#Encoder LSTM 1\n",
    "encoder_lstm1 = LSTM(HIDDEN_DIM, \n",
    "                    return_sequences = True,\n",
    "                    return_state = True, \n",
    "                    dropout = 0.4, \n",
    "                    recurrent_dropout = 0.4)\n",
    "(encoder_output1, state_h1, state_c1) = encoder_lstm1(enc_emb)\n",
    "\n",
    "#ENcoder LSTM 2\n",
    "encoder_lstm2 = LSTM(HIDDEN_DIM, \n",
    "                    return_sequences = True,\n",
    "                    return_state = True, \n",
    "                    dropout = 0.4, \n",
    "                    recurrent_dropout = 0.4)\n",
    "(encoder_output2, state_h2, state_c2) = encoder_lstm2(encoder_output1)\n",
    "\n",
    "#Encoder LSTM 3\n",
    "encoder_lstm3 = LSTM(HIDDEN_DIM, \n",
    "                    return_sequences = True,\n",
    "                    return_state = True, \n",
    "                    dropout = 0.4, \n",
    "                    recurrent_dropout = 0.4)\n",
    "(encoder_outputs, state_h, state_c) = encoder_lstm3(encoder_output1)\n",
    "\n",
    "#now set up the decoder using the encoder_states as the initial decoder state\n",
    "decoder_inputs = Input(shape=(None, ))\n",
    "\n",
    "#Embedding layer\n",
    "dec_emb_layer = Embedding(input_dim = VOCAB_SIZE,\n",
    "                    output_dim = EMBEDDING_DIM,\n",
    "                    trainable = True)\n",
    "dec_emb = dec_emb_layer(decoder_inputs)\n",
    "\n",
    "#Decoder LSTM\n",
    "decoder_lstm = LSTM(HIDDEN_DIM, \n",
    "                   return_sequences = True, \n",
    "                   return_state = True, \n",
    "                   dropout = 0.4, \n",
    "                   recurrent_dropout = 0.2)\n",
    "(decoder_outputs, decoder_fwd_state, decoder_back_state) = decoder_lstm(dec_emb, initial_state=[state_h, state_c])\n",
    "\n",
    "#Dense layer\n",
    "decoder_dense = TimeDistributed(Dense(VOCAB_SIZE, activation = 'softmax'))\n",
    "decoder_outputs = decoder_dense(decoder_outputs)\n",
    "\n",
    "model = Model([encoder_inputs, decoder_inputs], decoder_outputs)\n",
    "model.summary()"
   ]
  },
  {
   "cell_type": "code",
   "execution_count": 60,
   "id": "loose-renewal",
   "metadata": {},
   "outputs": [],
   "source": [
    "model.compile(optimizer = 'adam', loss = 'sparse_categorical_crossentropy')\n",
    "from keras.callbacks import EarlyStopping\n",
    "es = EarlyStopping(monitor = 'loss', mode = 'min', verbose =1, patience =2)\n"
   ]
  },
  {
   "cell_type": "code",
   "execution_count": 61,
   "id": "introductory-springfield",
   "metadata": {},
   "outputs": [],
   "source": [
    "#now split up the data for training and testing\n",
    "factors_train, factors_test, expansions_train, expansions_test = train_test_split(factors_padded, expansions_padded, test_size =0.3)\n"
   ]
  },
  {
   "cell_type": "code",
   "execution_count": 62,
   "id": "essential-admission",
   "metadata": {},
   "outputs": [],
   "source": [
    "BATCH_SIZE = 1000\n",
    "EPOCHS = 5"
   ]
  },
  {
   "cell_type": "code",
   "execution_count": 63,
   "id": "determined-trigger",
   "metadata": {},
   "outputs": [
    {
     "name": "stdout",
     "output_type": "stream",
     "text": [
      "Epoch 1/5\n",
      "7/7 [==============================] - 29s 3s/step - loss: 3.1264\n",
      "Epoch 2/5\n",
      "7/7 [==============================] - 23s 3s/step - loss: 1.9427\n",
      "Epoch 3/5\n",
      "7/7 [==============================] - 24s 3s/step - loss: 1.7236\n",
      "Epoch 4/5\n",
      "7/7 [==============================] - 24s 3s/step - loss: 1.6475\n",
      "Epoch 5/5\n",
      "7/7 [==============================] - 25s 4s/step - loss: 1.6202\n"
     ]
    }
   ],
   "source": [
    "#now let's train the model- pass the factors and expanded sequences, excluding the last character in the expanded sequences as input\n",
    "#as output pass a re-shaped expansions tensor composed of every character in the expansions from the 2nd index onwards\n",
    "history = model.fit([factors_train, expansions_train[:,:-1]],\n",
    "                   expansions_train.reshape(expansions_train.shape[0], expansions_train.shape[1],1)[:,1:],\n",
    "                   epochs = EPOCHS, \n",
    "                   batch_size = BATCH_SIZE, \n",
    "                   callbacks = [es], \n",
    "                   )"
   ]
  },
  {
   "cell_type": "code",
   "execution_count": 64,
   "id": "unlike-grave",
   "metadata": {},
   "outputs": [
    {
     "name": "stdout",
     "output_type": "stream",
     "text": [
      "dict_keys(['loss'])\n"
     ]
    }
   ],
   "source": [
    "print(history.history.keys())"
   ]
  },
  {
   "cell_type": "code",
   "execution_count": 65,
   "id": "understanding-registrar",
   "metadata": {},
   "outputs": [
    {
     "data": {
      "image/png": "[encoded data removed]",
      "text/plain": [
       "<Figure size 432x288 with 1 Axes>"
      ]
     },
     "metadata": {
      "needs_background": "light"
     },
     "output_type": "display_data"
    }
   ],
   "source": [
    "import matplotlib.pyplot as plt\n",
    "plt.plot(history.history['loss'])\n",
    "plt.title(\"Training Loss Over Epochs\")\n",
    "plt.xlabel(\"Number of Epochs\")\n",
    "plt.ylabel(\"Training Loss\")\n",
    "plt.show()"
   ]
  },
  {
   "cell_type": "code",
   "execution_count": 66,
   "id": "impressive-canberra",
   "metadata": {},
   "outputs": [],
   "source": [
    "#save the model for good measure\n",
    "model.save('seq2seq_2_trained.h5')"
   ]
  },
  {
   "cell_type": "markdown",
   "id": "laden-perception",
   "metadata": {},
   "source": [
    "### Now define the encoder/decoder inference model\n",
    "\n",
    "To accept an input factored sequence and return a predicted expansion."
   ]
  },
  {
   "cell_type": "code",
   "execution_count": 93,
   "id": "elder-mitchell",
   "metadata": {},
   "outputs": [],
   "source": [
    "#encode the input sequence to get the feature vector\n",
    "encoder_model = Model(inputs = encoder_inputs, outputs = [encoder_outputs, state_h, state_c])\n",
    "\n",
    "#decoder setup\n",
    "#below tensors will hold the states of the previous time step\n",
    "decoder_state_input_h = Input(shape=(HIDDEN_DIM, ))\n",
    "decoder_state_input_c = Input(shape=(HIDDEN_DIM, ))\n",
    "decoder_hidden_state_input = Input(shape=(MAX_LEN, HIDDEN_DIM))\n",
    "\n",
    "#get the embeddings of the decoder sequence\n",
    "dec_emb2 = dec_emb_layer(decoder_inputs)\n",
    "\n",
    "# to predict the next character in the sequence, set the initial states\n",
    "(decoder_outputs2, state_h2, state_c2) = decoder_lstm(dec_emb2,\n",
    "        initial_state=[decoder_state_input_h, decoder_state_input_c])\n",
    "\n",
    "#a dense softmax layer to generate the probability distribution over the target vocab\n",
    "decoder_outputs2 = decoder_dense(decoder_outputs2)\n",
    "\n",
    "#the final decoder model\n",
    "decoder_model = Model([decoder_inputs] + [decoder_hidden_state_input,\n",
    "                      decoder_state_input_h, decoder_state_input_c],\n",
    "                      [decoder_outputs2] + [state_h2, state_c2])\n",
    "\n"
   ]
  },
  {
   "cell_type": "code",
   "execution_count": 94,
   "id": "separate-middle",
   "metadata": {},
   "outputs": [],
   "source": [
    "#now define a function which accepts the input text and outputs the predicted expansion\n",
    "\n",
    "def decode_sequence(input_seq):\n",
    "    \n",
    "    #encode the input as state vectors\n",
    "    (e_out, e_h, e_c) = encoder_model.predict(input_seq)\n",
    "    \n",
    "    #generate empty target sequence of length 1\n",
    "    target_seq = np.zeros((1,1))\n",
    "    \n",
    "    #populate the first character of the target sequence with the beginning of sequence tag\n",
    "    target_seq[0,0] = word2idx['<bos>']\n",
    "    \n",
    "    stop_condition = False\n",
    "    decoded_sequence = ''\n",
    "    \n",
    "    while not stop_condition:\n",
    "        (output_tokens, h, c) = decoder_model.predict([target_seq]+[e_out, e_h, e_c])\n",
    "        \n",
    "        #sample a token\n",
    "        sampled_token_index = np.argmax(output_tokens[0,-1,:])\n",
    "        sampled_token = reverse_target_word_index[sampled_token_index]\n",
    "        \n",
    "        if sampled_token_index!= '<eos>':\n",
    "            decoded_sequence +=',' + sampled_token\n",
    "            \n",
    "        #the exit condition is either hitting the max length or finding a stop word\n",
    "        if sampled_token == '<eos>' or len(decoded_sequence.split(\",\"))>=MAX_LEN-1:\n",
    "            stop_condition = True\n",
    "            \n",
    "        #update the target sequence (of length 1)\n",
    "        target_seq = np.zeros((1,1))\n",
    "        target_seq[0,0] = sampled_token_index\n",
    "        \n",
    "        #update the internal states\n",
    "        (e_h, e_c) = (h,c)\n",
    "        \n",
    "    return decoded_sequence"
   ]
  },
  {
   "cell_type": "code",
   "execution_count": 96,
   "id": "neutral-cooperative",
   "metadata": {},
   "outputs": [],
   "source": [
    "#now define the functions that will convert between numeric and string representations\n",
    "#make sure to define the target character index\n",
    "\n",
    "#recal that we already have dictionaries holding the word2idx and idx2word values\n",
    "\n",
    "#from sequence to expansion\n",
    "def seq2exp(input_seq):\n",
    "    newString = ''\n",
    "    for i in input_seq:\n",
    "        if i != 0 and i != word2idx['<eos>'] and i != word2idx['<bos>']:\n",
    "            newString = newString + idx2word[i] + ','\n",
    "            \n",
    "    return newString\n",
    "\n",
    "#from expansion to sequence\n",
    "\n",
    "def exp2seq(input_seq):\n",
    "    newString = ''\n",
    "    for i in input_seq:\n",
    "        if i != 0:\n",
    "            newString = newString + word2idx[i] + ','\n",
    "            \n",
    "    return newString"
   ]
  },
  {
   "cell_type": "code",
   "execution_count": 97,
   "id": "compatible-inclusion",
   "metadata": {},
   "outputs": [
    {
     "name": "stdout",
     "output_type": "stream",
     "text": [
      "Factor: (,-,5,*,c,-,1,1,),*,(,c,+,1,2,),\n",
      "Original expansion: -,5,*,c,*,*,2,-,7,1,*,c,-,1,3,2,\n",
      "1/1 [==============================] - 0s 377ms/step\n"
     ]
    },
    {
     "ename": "ValueError",
     "evalue": "in user code:\n\n    File \"/usr/local/lib/python3.9/site-packages/keras/engine/training.py\", line 1845, in predict_function  *\n        return step_function(self, iterator)\n    File \"/usr/local/lib/python3.9/site-packages/keras/engine/training.py\", line 1834, in step_function  **\n        outputs = model.distribute_strategy.run(run_step, args=(data,))\n    File \"/usr/local/lib/python3.9/site-packages/keras/engine/training.py\", line 1823, in run_step  **\n        outputs = model.predict_step(data)\n    File \"/usr/local/lib/python3.9/site-packages/keras/engine/training.py\", line 1791, in predict_step\n        return self(x, training=False)\n    File \"/usr/local/lib/python3.9/site-packages/keras/utils/traceback_utils.py\", line 67, in error_handler\n        raise e.with_traceback(filtered_tb) from None\n    File \"/usr/local/lib/python3.9/site-packages/keras/engine/input_spec.py\", line 200, in assert_input_compatibility\n        raise ValueError(f'Layer \"{layer_name}\" expects {len(input_spec)} input(s),'\n\n    ValueError: Exception encountered when calling layer \"model_7\" (type Functional).\n    \n    Layer \"lstm_7\" expects 5 input(s), but it received 1 input tensors. Inputs received: [<tf.Tensor 'model_7/embedding_3/embedding_lookup/Identity_1:0' shape=(None, 1, 10) dtype=float32>]\n    \n    Call arguments received by layer \"model_7\" (type Functional):\n      • inputs=('tf.Tensor(shape=(None, 1), dtype=float32)', 'tf.Tensor(shape=(None, 29, 300), dtype=float32)', 'tf.Tensor(shape=(None, 300), dtype=float32)', 'tf.Tensor(shape=(None, 300), dtype=float32)')\n      • training=False\n      • mask=None\n",
     "output_type": "error",
     "traceback": [
      "\u001b[0;31m---------------------------------------------------------------------------\u001b[0m",
      "\u001b[0;31mValueError\u001b[0m                                Traceback (most recent call last)",
      "\u001b[0;32m<ipython-input-97-f2046ca21b16>\u001b[0m in \u001b[0;36m<module>\u001b[0;34m\u001b[0m\n\u001b[1;32m      4\u001b[0m     \u001b[0mprint\u001b[0m \u001b[0;34m(\u001b[0m\u001b[0;34m'Factor:'\u001b[0m\u001b[0;34m,\u001b[0m \u001b[0mseq2exp\u001b[0m\u001b[0;34m(\u001b[0m\u001b[0mfactors_train\u001b[0m\u001b[0;34m[\u001b[0m\u001b[0mi\u001b[0m\u001b[0;34m]\u001b[0m\u001b[0;34m)\u001b[0m\u001b[0;34m)\u001b[0m\u001b[0;34m\u001b[0m\u001b[0;34m\u001b[0m\u001b[0m\n\u001b[1;32m      5\u001b[0m     \u001b[0mprint\u001b[0m \u001b[0;34m(\u001b[0m\u001b[0;34m'Original expansion:'\u001b[0m\u001b[0;34m,\u001b[0m \u001b[0mseq2exp\u001b[0m\u001b[0;34m(\u001b[0m\u001b[0mexpansions_train\u001b[0m\u001b[0;34m[\u001b[0m\u001b[0mi\u001b[0m\u001b[0;34m]\u001b[0m\u001b[0;34m)\u001b[0m\u001b[0;34m)\u001b[0m\u001b[0;34m\u001b[0m\u001b[0;34m\u001b[0m\u001b[0m\n\u001b[0;32m----> 6\u001b[0;31m     print ('Predicted expansion:', decode_sequence(factors_train[i].reshape(1,\n\u001b[0m\u001b[1;32m      7\u001b[0m            MAX_LEN)))\n\u001b[1;32m      8\u001b[0m     \u001b[0mprint\u001b[0m\u001b[0;34m(\u001b[0m\u001b[0;34m'\\n'\u001b[0m\u001b[0;34m)\u001b[0m\u001b[0;34m\u001b[0m\u001b[0;34m\u001b[0m\u001b[0m\n",
      "\u001b[0;32m<ipython-input-94-e7b66b329624>\u001b[0m in \u001b[0;36mdecode_sequence\u001b[0;34m(input_seq)\u001b[0m\n\u001b[1;32m     16\u001b[0m \u001b[0;34m\u001b[0m\u001b[0m\n\u001b[1;32m     17\u001b[0m     \u001b[0;32mwhile\u001b[0m \u001b[0;32mnot\u001b[0m \u001b[0mstop_condition\u001b[0m\u001b[0;34m:\u001b[0m\u001b[0;34m\u001b[0m\u001b[0;34m\u001b[0m\u001b[0m\n\u001b[0;32m---> 18\u001b[0;31m         \u001b[0;34m(\u001b[0m\u001b[0moutput_tokens\u001b[0m\u001b[0;34m,\u001b[0m \u001b[0mh\u001b[0m\u001b[0;34m,\u001b[0m \u001b[0mc\u001b[0m\u001b[0;34m)\u001b[0m \u001b[0;34m=\u001b[0m \u001b[0mdecoder_model\u001b[0m\u001b[0;34m.\u001b[0m\u001b[0mpredict\u001b[0m\u001b[0;34m(\u001b[0m\u001b[0;34m[\u001b[0m\u001b[0mtarget_seq\u001b[0m\u001b[0;34m]\u001b[0m\u001b[0;34m+\u001b[0m\u001b[0;34m[\u001b[0m\u001b[0me_out\u001b[0m\u001b[0;34m,\u001b[0m \u001b[0me_h\u001b[0m\u001b[0;34m,\u001b[0m \u001b[0me_c\u001b[0m\u001b[0;34m]\u001b[0m\u001b[0;34m)\u001b[0m\u001b[0;34m\u001b[0m\u001b[0;34m\u001b[0m\u001b[0m\n\u001b[0m\u001b[1;32m     19\u001b[0m \u001b[0;34m\u001b[0m\u001b[0m\n\u001b[1;32m     20\u001b[0m         \u001b[0;31m#sample a token\u001b[0m\u001b[0;34m\u001b[0m\u001b[0;34m\u001b[0m\u001b[0;34m\u001b[0m\u001b[0m\n",
      "\u001b[0;32m/usr/local/lib/python3.9/site-packages/keras/utils/traceback_utils.py\u001b[0m in \u001b[0;36merror_handler\u001b[0;34m(*args, **kwargs)\u001b[0m\n\u001b[1;32m     65\u001b[0m     \u001b[0;32mexcept\u001b[0m \u001b[0mException\u001b[0m \u001b[0;32mas\u001b[0m \u001b[0me\u001b[0m\u001b[0;34m:\u001b[0m  \u001b[0;31m# pylint: disable=broad-except\u001b[0m\u001b[0;34m\u001b[0m\u001b[0;34m\u001b[0m\u001b[0m\n\u001b[1;32m     66\u001b[0m       \u001b[0mfiltered_tb\u001b[0m \u001b[0;34m=\u001b[0m \u001b[0m_process_traceback_frames\u001b[0m\u001b[0;34m(\u001b[0m\u001b[0me\u001b[0m\u001b[0;34m.\u001b[0m\u001b[0m__traceback__\u001b[0m\u001b[0;34m)\u001b[0m\u001b[0;34m\u001b[0m\u001b[0;34m\u001b[0m\u001b[0m\n\u001b[0;32m---> 67\u001b[0;31m       \u001b[0;32mraise\u001b[0m \u001b[0me\u001b[0m\u001b[0;34m.\u001b[0m\u001b[0mwith_traceback\u001b[0m\u001b[0;34m(\u001b[0m\u001b[0mfiltered_tb\u001b[0m\u001b[0;34m)\u001b[0m \u001b[0;32mfrom\u001b[0m \u001b[0;32mNone\u001b[0m\u001b[0;34m\u001b[0m\u001b[0;34m\u001b[0m\u001b[0m\n\u001b[0m\u001b[1;32m     68\u001b[0m     \u001b[0;32mfinally\u001b[0m\u001b[0;34m:\u001b[0m\u001b[0;34m\u001b[0m\u001b[0;34m\u001b[0m\u001b[0m\n\u001b[1;32m     69\u001b[0m       \u001b[0;32mdel\u001b[0m \u001b[0mfiltered_tb\u001b[0m\u001b[0;34m\u001b[0m\u001b[0;34m\u001b[0m\u001b[0m\n",
      "\u001b[0;32m/usr/local/lib/python3.9/site-packages/keras/engine/training.py\u001b[0m in \u001b[0;36mtf__predict_function\u001b[0;34m(iterator)\u001b[0m\n\u001b[1;32m     13\u001b[0m                 \u001b[0;32mtry\u001b[0m\u001b[0;34m:\u001b[0m\u001b[0;34m\u001b[0m\u001b[0;34m\u001b[0m\u001b[0m\n\u001b[1;32m     14\u001b[0m                     \u001b[0mdo_return\u001b[0m \u001b[0;34m=\u001b[0m \u001b[0;32mTrue\u001b[0m\u001b[0;34m\u001b[0m\u001b[0;34m\u001b[0m\u001b[0m\n\u001b[0;32m---> 15\u001b[0;31m                     \u001b[0mretval_\u001b[0m \u001b[0;34m=\u001b[0m \u001b[0mag__\u001b[0m\u001b[0;34m.\u001b[0m\u001b[0mconverted_call\u001b[0m\u001b[0;34m(\u001b[0m\u001b[0mag__\u001b[0m\u001b[0;34m.\u001b[0m\u001b[0mld\u001b[0m\u001b[0;34m(\u001b[0m\u001b[0mstep_function\u001b[0m\u001b[0;34m)\u001b[0m\u001b[0;34m,\u001b[0m \u001b[0;34m(\u001b[0m\u001b[0mag__\u001b[0m\u001b[0;34m.\u001b[0m\u001b[0mld\u001b[0m\u001b[0;34m(\u001b[0m\u001b[0mself\u001b[0m\u001b[0;34m)\u001b[0m\u001b[0;34m,\u001b[0m \u001b[0mag__\u001b[0m\u001b[0;34m.\u001b[0m\u001b[0mld\u001b[0m\u001b[0;34m(\u001b[0m\u001b[0miterator\u001b[0m\u001b[0;34m)\u001b[0m\u001b[0;34m)\u001b[0m\u001b[0;34m,\u001b[0m \u001b[0;32mNone\u001b[0m\u001b[0;34m,\u001b[0m \u001b[0mfscope\u001b[0m\u001b[0;34m)\u001b[0m\u001b[0;34m\u001b[0m\u001b[0;34m\u001b[0m\u001b[0m\n\u001b[0m\u001b[1;32m     16\u001b[0m                 \u001b[0;32mexcept\u001b[0m\u001b[0;34m:\u001b[0m\u001b[0;34m\u001b[0m\u001b[0;34m\u001b[0m\u001b[0m\n\u001b[1;32m     17\u001b[0m                     \u001b[0mdo_return\u001b[0m \u001b[0;34m=\u001b[0m \u001b[0;32mFalse\u001b[0m\u001b[0;34m\u001b[0m\u001b[0;34m\u001b[0m\u001b[0m\n",
      "\u001b[0;31mValueError\u001b[0m: in user code:\n\n    File \"/usr/local/lib/python3.9/site-packages/keras/engine/training.py\", line 1845, in predict_function  *\n        return step_function(self, iterator)\n    File \"/usr/local/lib/python3.9/site-packages/keras/engine/training.py\", line 1834, in step_function  **\n        outputs = model.distribute_strategy.run(run_step, args=(data,))\n    File \"/usr/local/lib/python3.9/site-packages/keras/engine/training.py\", line 1823, in run_step  **\n        outputs = model.predict_step(data)\n    File \"/usr/local/lib/python3.9/site-packages/keras/engine/training.py\", line 1791, in predict_step\n        return self(x, training=False)\n    File \"/usr/local/lib/python3.9/site-packages/keras/utils/traceback_utils.py\", line 67, in error_handler\n        raise e.with_traceback(filtered_tb) from None\n    File \"/usr/local/lib/python3.9/site-packages/keras/engine/input_spec.py\", line 200, in assert_input_compatibility\n        raise ValueError(f'Layer \"{layer_name}\" expects {len(input_spec)} input(s),'\n\n    ValueError: Exception encountered when calling layer \"model_7\" (type Functional).\n    \n    Layer \"lstm_7\" expects 5 input(s), but it received 1 input tensors. Inputs received: [<tf.Tensor 'model_7/embedding_3/embedding_lookup/Identity_1:0' shape=(None, 1, 10) dtype=float32>]\n    \n    Call arguments received by layer \"model_7\" (type Functional):\n      • inputs=('tf.Tensor(shape=(None, 1), dtype=float32)', 'tf.Tensor(shape=(None, 29, 300), dtype=float32)', 'tf.Tensor(shape=(None, 300), dtype=float32)', 'tf.Tensor(shape=(None, 300), dtype=float32)')\n      • training=False\n      • mask=None\n"
     ]
    }
   ],
   "source": [
    "#now lets generate some predictions\n",
    "\n",
    "for i in range(0, 19):\n",
    "    print ('Factor:', seq2exp(factors_train[i]))\n",
    "    print ('Original expansion:', seq2exp(expansions_train[i]))\n",
    "    print ('Predicted expansion:', decode_sequence(factors_train[i].reshape(1,\n",
    "           MAX_LEN)))\n",
    "    print('\\n')"
   ]
  },
  {
   "cell_type": "code",
   "execution_count": null,
   "id": "cloudy-smooth",
   "metadata": {},
   "outputs": [],
   "source": []
  }
 ],
 "metadata": {
  "kernelspec": {
   "display_name": "Python 3",
   "language": "python",
   "name": "python3"
  },
  "language_info": {
   "codemirror_mode": {
    "name": "ipython",
    "version": 3
   },
   "file_extension": ".py",
   "mimetype": "text/x-python",
   "name": "python",
   "nbconvert_exporter": "python",
   "pygments_lexer": "ipython3",
   "version": "3.9.2"
  }
 },
 "nbformat": 4,
 "nbformat_minor": 5
}
